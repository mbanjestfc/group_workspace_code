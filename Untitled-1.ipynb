{
 "cells": [
  {
   "cell_type": "code",
   "execution_count": 19,
   "metadata": {},
   "outputs": [],
   "source": [
    "# imoprt the modules\n",
    "\n",
    "import os\n",
    "import datetime\n",
    "import subprocess\n",
    "from pathlib import Path\n",
    "def age(date):\n",
    "    # Get the current date and the input date\n",
    "    current_date = datetime.datetime.now()\n",
    "    input_date = datetime.datetime.strptime(date, \"%Y-%m-%d %H:%M:%S.%f %z\")\n",
    "    # Calculate the difference in days\n",
    "    diff = (current_date - input_date).days\n",
    "    # Convert the difference to months and years\n",
    "    months = diff // 30\n",
    "    years = months // 12\n",
    "    # Return the result\n",
    "    return f\"{months} months, {years} years\""
   ]
  },
  {
   "cell_type": "code",
   "execution_count": null,
   "metadata": {},
   "outputs": [],
   "source": [
    "from pathlib import Path\n",
    "data_folder = Path(\"source_data/text_files/\")\n",
    "file_to_open = data_folder / \"raw_data.txt\"\n",
    "print(file_to_open.read_text())\n"
   ]
  },
  {
   "cell_type": "code",
   "execution_count": null,
   "metadata": {},
   "outputs": [],
   "source": [
    "# Loop through all the group work spaces\n",
    "for gws in os.listdir(\"/mnt/c/Users/ysr45478\"):\n",
    "    # Get the full path of the group work space\n",
    "    path = os.path.join(\"/mnt/c/Users/ysr45478\", gws)\n",
    "    # Get the creation date, disk usage, disk quota and last access date\n",
    "    creation_date = subprocess.getoutput(f\"stat -c %w {path}\")\n",
    "    disk_usage = subprocess.getoutput(f\"du -sh {path} | cut -f1\")\n",
    "    disk_quota = subprocess.getoutput(f\"quota -s {path} | tail -n1 | awk '{{print $3}}'\")\n",
    "    last_access_date = subprocess.getoutput(f\"stat -c %x {path}\")\n",
    "    # Calculate the age in months and years from the creation date\n",
    "    age = age(creation_date)\n",
    "    # Count the number of unique users in the group work space\n",
    "    users = len(set(subprocess.getoutput(f\"find {path} -type f -printf '%u\\n'\").split()))\n",
    "    # Write the output to a text file\n",
    "    with open(\"output.txt\", \"a\") as f:\n",
    "        f.write(f\"{path}, {age}, {creation_date}, {disk_usage}, {disk_quota}, {last_access_date}, {users}\\n\")"
   ]
  }
 ],
 "metadata": {
  "kernelspec": {
   "display_name": "Chami-stfc-venv",
   "language": "python",
   "name": "python3"
  },
  "language_info": {
   "codemirror_mode": {
    "name": "ipython",
    "version": 3
   },
   "file_extension": ".py",
   "mimetype": "text/x-python",
   "name": "python",
   "nbconvert_exporter": "python",
   "pygments_lexer": "ipython3",
   "version": "3.11.4"
  },
  "orig_nbformat": 4
 },
 "nbformat": 4,
 "nbformat_minor": 2
}
